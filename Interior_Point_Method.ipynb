{
 "cells": [
  {
   "cell_type": "markdown",
   "id": "e40c4771-06ed-4fbc-99cd-951b528acfc1",
   "metadata": {},
   "source": [
    "# Interior Point Method\n",
    "\n",
    "Pada dokumen ini, akan dijabarkan beberapa poin penting perihal kode interior point method untuk mencari solusi program linear\n",
    "\n",
    "\\begin{align}\n",
    "&\\min c^T X \\\\\n",
    "&\\text{ subject to } \\\\\n",
    "&AX = b, \\, X\\geq 0 \n",
    "\\end{align}\n",
    "\n",
    "dengan\n",
    "\\begin{equation}\n",
    "A = \\begin{bmatrix}\n",
    "    1 & 1 & 0\\\\\n",
    "    0 & 1 & 1\n",
    "\\end{bmatrix},\n",
    "\\end{equation}\n",
    "\n",
    "$b = [2, 2]^T$ dan $c = [-1, -2, 0]^T$."
   ]
  },
  {
   "cell_type": "markdown",
   "id": "2f2af98a-10a9-4d8e-814f-7c328c286b42",
   "metadata": {},
   "source": [
    "Pertama-tama, akan dijabarkan kode untuk menentukan aproksimasi awal dari interior point method, $X^{(0)}$"
   ]
  },
  {
   "cell_type": "code",
   "execution_count": 4,
   "id": "91da96ad-22d2-4b57-84cc-c45a95630423",
   "metadata": {},
   "outputs": [],
   "source": [
    "import numpy as np\n",
    "\n",
    "def initial_point(A, b, c):\n",
    "    \"\"\"\n",
    "    Find the initial point for interior point method.\n",
    "    \n",
    "    Parameters:\n",
    "        A (numpy.ndarray): Constraint matrix (m x n)\n",
    "        b (numpy.ndarray): RHS vector (m x 1)\n",
    "        c (numpy.ndarray): Objective coefficients (n x 1)\n",
    "\n",
    "    Return:\n",
    "        x (numpy.ndarray): Initial points\n",
    "    \"\"\"\n",
    "    \n",
    "    x = A.T @ np.linalg.inv(A @ A.T) @ b # (Dim = n)\n",
    "    _lambda = np.linalg.inv(A @ A.T) @ A @ c  # Dual variables (Lagrange multipliers) (Dim = m)\n",
    "    s = c - A.T @ _lambda  # Slack variables (Dim = n)\n",
    "\n",
    "    delta_x = np.max([0, -1.5 * np.min(x)])\n",
    "    delta_s = np.max([0, -1.5 * np.min(x)])\n",
    "    \n",
    "    x += delta_x\n",
    "    s += delta_s\n",
    "\n",
    "    delta_x2 = 0.5 * (x.T @ s)/np.sum(s)\n",
    "    delta_s2 = 0.5 * (x.T @ s)/np.sum(x)\n",
    "\n",
    "    x += delta_x2\n",
    "    s += delta_s2\n",
    "\n",
    "    return x, _lambda, s"
   ]
  },
  {
   "cell_type": "markdown",
   "id": "24f6e6fd-0fd3-4c6b-9983-f3dbabe7b6a4",
   "metadata": {},
   "source": [
    "Setelah itu, program utama dari interior point method dapat dilihat pada kode di bawah ini."
   ]
  },
  {
   "cell_type": "code",
   "execution_count": 6,
   "id": "d5cc0bd9-0cd1-4a2b-8bbf-ff1971991897",
   "metadata": {},
   "outputs": [
    {
     "name": "stdout",
     "output_type": "stream",
     "text": [
      "Status: Optimal\n",
      "Optimal solution: [5.69357458e-16 2.00000000e+00 3.25933729e-18]\n"
     ]
    }
   ],
   "source": [
    "def interior_point_method(A, b, c, tol=1e-6, max_iter=100):\n",
    "    \"\"\"\n",
    "    Solves the LP problem: minimize c^T x\n",
    "    subject to Ax = b, x >= 0\n",
    "\n",
    "    Parameters:\n",
    "        A (numpy.ndarray): Constraint matrix (m x n)\n",
    "        b (numpy.ndarray): RHS vector (m x 1)\n",
    "        c (numpy.ndarray): Objective coefficients (n x 1)\n",
    "        tol (float): Convergence tolerance\n",
    "        max_iter (int): Maximum number of iterations\n",
    "\n",
    "    Returns:\n",
    "        x (numpy.ndarray): Optimal solution\n",
    "        status (str): Solution status ('Optimal' or 'Failed')\n",
    "    \"\"\"\n",
    "    \n",
    "    m, n = A.shape\n",
    "    # Initialize initial point\n",
    "    x, _lambda, s = initial_point(A, b, c)\n",
    "    \n",
    "    for iteration in range(max_iter):\n",
    "\n",
    "        k = iteration + 1\n",
    "        \n",
    "        # Build the KKT matrix\n",
    "        X = np.diag(x)\n",
    "        S = np.diag(s)\n",
    "\n",
    "        KKT = np.block([\n",
    "            [np.zeros((n, n)), A.T, np.eye((n))],\n",
    "            [A, np.zeros((m, m)), np.zeros((m, n))],\n",
    "            [S, np.zeros((n, m)), X]\n",
    "        ])\n",
    "        \n",
    "        # Residuals\n",
    "        r_b = A @ x - b\n",
    "        r_c = A.T @ _lambda + s - c\n",
    "\n",
    "        # Build the RHS vector\n",
    "        rhs = -np.concatenate([-r_c, -r_b, - np.diag(X @ S)])\n",
    "\n",
    "        # Compute the central path parameter\n",
    "        mu = np.dot(x, s) / n\n",
    "\n",
    "        # Solve the linear system for affine search directions\n",
    "        daff = np.linalg.solve(KKT, rhs)\n",
    "        dx_aff = daff[:n]\n",
    "        dlambda_aff = daff[n:n+m]\n",
    "        ds_aff = daff[-n:]\n",
    "\n",
    "        # Construct alpha affine (primal and dual) and duality measure affine\n",
    "        # The default value: 1\n",
    "        alpha_aff_primal = 1\n",
    "        alpha_aff_dual = 1\n",
    "        \n",
    "        idx_x = np.where(dx_aff < 0)[0]\n",
    "        if idx_x.size > 0:\n",
    "            alpha_aff_primal = min(1, np.min(-x[idx_x] / dx_aff[idx_x]))\n",
    "        idx_s = np.where(ds_aff < 0)[0]\n",
    "        if idx_s.size > 0:\n",
    "            alpha_aff_dual = min(1, np.min(-s[idx_s] / ds_aff[idx_s]))\n",
    "        \n",
    "        mu_aff = (x + alpha_aff_primal * dx_aff).T @ (s + alpha_aff_dual * ds_aff) / n\n",
    "\n",
    "        # Define centering parameter\n",
    "        sigma = (mu_aff / mu) ** 3\n",
    "        \n",
    "        # Solve the second linear system\n",
    "        X_aff = np.diag(dx_aff)\n",
    "        S_aff = np.diag(ds_aff)\n",
    "        rhs_aff = -np.concatenate([-r_c, -r_b, - np.diag(X @ S) - np.diag(X_aff @ S_aff) + sigma * mu])\n",
    "        \n",
    "        d = np.linalg.solve(KKT, rhs_aff)\n",
    "        dx = d[:n]\n",
    "        dlambda = d[n:n+m]\n",
    "        ds = d[-n:]\n",
    "\n",
    "        # Find the rate alpha\n",
    "        # The default value: 1\n",
    "        alpha_primal = 1\n",
    "        alpha_dual = 1\n",
    "        eta = 1 - 0.1 ** k\n",
    "        \n",
    "        idx_x = np.where(dx < 0)[0]\n",
    "        if idx_x.size > 0:\n",
    "            alpha_primal_max = np.min(-x[idx_x] / dx[idx_x])\n",
    "            alpha_primal = min(1, eta * alpha_primal_max)\n",
    "        idx_s = np.where(ds_aff < 0)[0]\n",
    "        if idx_s.size > 0:\n",
    "            alpha_dual_max = np.min(-s[idx_s] / ds[idx_s])\n",
    "            alpha_dual = min(1, eta * alpha_dual_max)\n",
    "\n",
    "        # Check for convergence\n",
    "        if np.linalg.norm(np.concatenate([alpha_primal * dx, alpha_dual * dlambda, alpha_dual * ds])) < tol:\n",
    "            return x, 'Optimal'\n",
    "        \n",
    "        # Update variables\n",
    "        x += alpha_primal * dx\n",
    "        _lambda += alpha_dual * dlambda\n",
    "        s += alpha_dual * ds\n",
    "\n",
    "    return x, 'Failed'  # If max_iter is reached\n",
    "\n",
    "# Example usage\n",
    "if __name__ == \"__main__\":\n",
    "    # Problem data\n",
    "    A = np.array([[1, 1, 0], [0, 1, 1]])\n",
    "    b = np.array([2, 2])\n",
    "    c = np.array([-1, -2, 0])\n",
    "\n",
    "    # Solve the LP\n",
    "    x_opt, status = interior_point_method(A, b, c)\n",
    "\n",
    "    print(\"Status:\", status)\n",
    "    print(\"Optimal solution:\", x_opt)\n"
   ]
  },
  {
   "cell_type": "markdown",
   "id": "485fca9b-4adb-4539-b7f3-c9b2871fbeb3",
   "metadata": {},
   "source": [
    "Bandingkan dengan solusi menggunakan package PuLP"
   ]
  },
  {
   "cell_type": "code",
   "execution_count": 37,
   "id": "75394461-5566-4773-a61e-86824a9ecaa1",
   "metadata": {},
   "outputs": [
    {
     "name": "stdout",
     "output_type": "stream",
     "text": [
      "Optimal\n"
     ]
    },
    {
     "data": {
      "text/plain": [
       "(0.0, 2.0, 0.0)"
      ]
     },
     "execution_count": 37,
     "metadata": {},
     "output_type": "execute_result"
    }
   ],
   "source": [
    "from pulp import *\n",
    "x = LpVariable(\"x\", 0)\n",
    "y = LpVariable(\"y\", 0)\n",
    "z = LpVariable(\"z\", 0)\n",
    "prob = LpProblem(\"myProblem\", LpMinimize)\n",
    "\n",
    "prob += x + y == 2\n",
    "prob += y + z == 2\n",
    "prob += -x -2*y\n",
    "\n",
    "status = prob.solve()\n",
    "print(LpStatus[status])\n",
    "value(x), value(y), value(z)"
   ]
  }
 ],
 "metadata": {
  "kernelspec": {
   "display_name": "Python 3 (ipykernel)",
   "language": "python",
   "name": "python3"
  },
  "language_info": {
   "codemirror_mode": {
    "name": "ipython",
    "version": 3
   },
   "file_extension": ".py",
   "mimetype": "text/x-python",
   "name": "python",
   "nbconvert_exporter": "python",
   "pygments_lexer": "ipython3",
   "version": "3.11.4"
  }
 },
 "nbformat": 4,
 "nbformat_minor": 5
}
