{
 "cells": [
  {
   "cell_type": "markdown",
   "id": "db8da81d-b875-4fdb-953e-d491d8ac4009",
   "metadata": {},
   "source": [
    "# Algoritma 17.4 (Bound-Constrained Lagrangian Method)"
   ]
  },
  {
   "cell_type": "code",
   "execution_count": 2,
   "id": "b1ff4b1f-c912-4c54-bc2d-9919eca18e8d",
   "metadata": {},
   "outputs": [],
   "source": [
    "import numpy as np\n",
    "\n",
    "def projection(x, l, u):\n",
    "    \"\"\"Projects x onto the box constraints l <= x <= u.\"\"\"\n",
    "    return np.maximum(l, np.minimum(x, u))\n",
    "\n",
    "def bound_constrained_lagrangian(x0, lambd0, c_func, grad_L_func, l, u, \n",
    "                                  eta_tol=1e-6, omega_tol=1e-6, mu0=10):\n",
    "    \"\"\"Implements Algorithm 17.4: Bound-Constrained Lagrangian Method.\"\"\"\n",
    "    \n",
    "    mu = mu0\n",
    "    omega = 1 / mu0\n",
    "    eta = 1 / mu0**0.1\n",
    "    x = x0.copy()\n",
    "    lambd = lambd0.copy()\n",
    "    \n",
    "    for k in range(1000):  # Set a reasonable iteration limit\n",
    "        # Solve subproblem\n",
    "        grad_L = grad_L_func(x, lambd, mu)\n",
    "        x_new = projection(x - grad_L, l, u)\n",
    "        \n",
    "        # Check stationarity condition\n",
    "        if np.linalg.norm(x_new - projection(x - grad_L, l, u)) <= omega:\n",
    "            if np.linalg.norm(c_func(x_new)) <= eta:\n",
    "                # Convergence test\n",
    "                if np.linalg.norm(c_func(x_new)) <= eta_tol and np.linalg.norm(x_new - projection(x - grad_L, l, u)) <= omega_tol:\n",
    "                    return x_new  # Stop with approximate solution\n",
    "                \n",
    "                # Update multipliers and tighten tolerances\n",
    "                lambd -= mu * c_func(x_new)\n",
    "                mu = mu\n",
    "                eta /= mu**0.9\n",
    "                omega /= mu\n",
    "            else:\n",
    "                # Increase penalty parameter and tighten tolerances\n",
    "                mu *= 100\n",
    "                eta = 1 / mu**0.1\n",
    "                omega = 1 / mu\n",
    "        \n",
    "        x = x_new  # Update x\n",
    "    \n",
    "    return x  # Return last iterate if max iterations reached\n"
   ]
  }
 ],
 "metadata": {
  "kernelspec": {
   "display_name": "Python 3 (ipykernel)",
   "language": "python",
   "name": "python3"
  },
  "language_info": {
   "codemirror_mode": {
    "name": "ipython",
    "version": 3
   },
   "file_extension": ".py",
   "mimetype": "text/x-python",
   "name": "python",
   "nbconvert_exporter": "python",
   "pygments_lexer": "ipython3",
   "version": "3.11.4"
  }
 },
 "nbformat": 4,
 "nbformat_minor": 5
}
