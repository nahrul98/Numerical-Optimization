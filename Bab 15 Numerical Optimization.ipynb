{
 "cells": [
  {
   "cell_type": "markdown",
   "id": "dcdfb8bb-2f07-42a8-b299-70547a8da160",
   "metadata": {},
   "source": [
    "# Algoritma 15.1 (Simple Filter Method)"
   ]
  },
  {
   "cell_type": "code",
   "execution_count": 2,
   "id": "ab1ba9d5-1bf0-4de8-998d-5f6921b445f2",
   "metadata": {},
   "outputs": [
    {
     "name": "stdout",
     "output_type": "stream",
     "text": [
      "Optimal solution: [-4.14089866e+08 -4.14089866e+08]\n"
     ]
    }
   ],
   "source": [
    "import numpy as np\n",
    "\n",
    "def objective_function(x):\n",
    "    \"\"\"Example objective function f(x)\"\"\"\n",
    "    return np.sum(x**2)  # Example: Quadratic function\n",
    "\n",
    "def constraint_violation(x):\n",
    "    \"\"\"Example constraint violation function h(x)\"\"\"\n",
    "    return max(0, np.sum(x) - 1)  # Example: Sum of x should not exceed 1\n",
    "\n",
    "def step_generation(x, delta):\n",
    "    \"\"\"Generate a trial step (This can be a trust-region step, line search step, etc.)\"\"\"\n",
    "    return -delta * np.ones_like(x)  # Example: Simple descent direction\n",
    "\n",
    "def feasibility_restoration(x):\n",
    "    \"\"\"Feasibility restoration phase (if step-generation fails)\"\"\"\n",
    "    return np.zeros_like(x)  # Example: Projecting to feasible space (dummy)\n",
    "\n",
    "def filter_method(x0, delta0, max_iter=100, tol=1e-6):\n",
    "    \"\"\"General Filter Method Implementation\"\"\"\n",
    "    x = x0\n",
    "    delta = delta0\n",
    "    k = 0\n",
    "    filter_set = set()  # Stores (f_k, h_k) pairs\n",
    "\n",
    "    while k < max_iter:\n",
    "        # Check if the step-generation subproblem is feasible\n",
    "        pk = step_generation(x, delta)\n",
    "        if pk is None:\n",
    "            x_new = feasibility_restoration(x)\n",
    "        else:\n",
    "            x_trial = x + pk\n",
    "            f_trial = objective_function(x_trial)\n",
    "            h_trial = constraint_violation(x_trial)\n",
    "\n",
    "            # Check if (f+, h+) is acceptable to the filter\n",
    "            is_acceptable = all(f_trial < f and h_trial < h for f, h in filter_set)\n",
    "            \n",
    "            if is_acceptable:\n",
    "                x = x_trial\n",
    "                filter_set.add((f_trial, h_trial))\n",
    "                delta = max(delta, 1.2 * delta)  # Increase trust-region radius\n",
    "                \n",
    "                # Remove dominated pairs from the filter\n",
    "                filter_set = {(f, h) for f, h in filter_set if not (f >= f_trial and h >= h_trial)}\n",
    "            else:\n",
    "                delta *= 0.5  # Reduce trust-region radius if step is rejected\n",
    "        \n",
    "        # Convergence check\n",
    "        if np.linalg.norm(pk) < tol:\n",
    "            break\n",
    "        \n",
    "        k += 1\n",
    "    \n",
    "    return x\n",
    "\n",
    "# Example usage\n",
    "x0 = np.array([2.0, 2.0])  # Initial point\n",
    "delta0 = 1.0  # Initial trust-region radius\n",
    "solution = filter_method(x0, delta0)\n",
    "print(\"Optimal solution:\", solution)\n"
   ]
  },
  {
   "cell_type": "markdown",
   "id": "cb358b1f-4859-405d-b44b-d2fecf03ae9a",
   "metadata": {},
   "source": [
    "# Algoritma 15.2 (Generic Algorithm with Second-Order Correction)"
   ]
  },
  {
   "cell_type": "code",
   "execution_count": 4,
   "id": "63a80d29-a734-49a3-ba02-ed33855e853b",
   "metadata": {},
   "outputs": [
    {
     "name": "stdout",
     "output_type": "stream",
     "text": [
      "Optimal solution: [0. 0.]\n"
     ]
    }
   ],
   "source": [
    "def phi(x, mu):\n",
    "    # Define your objective function here\n",
    "    return np.linalg.norm(x)**2  # Example: quadratic function\n",
    "\n",
    "def D_phi(x, p):\n",
    "    # Define the directional derivative of phi at x along p\n",
    "    return 2 * np.dot(x, p)  # Example: gradient of quadratic function\n",
    "\n",
    "def compute_search_direction(x):\n",
    "    # Define how to compute search direction p_k\n",
    "    return -2 * x  # Example: steepest descent direction\n",
    "\n",
    "def compute_second_order_correction(x, p):\n",
    "    # Define the second-order correction direction \\hat{p}_k\n",
    "    return -0.5 * p  # Example: some small correction\n",
    "\n",
    "def algorithm_15_2(x0, eta=0.1, tau1=0.1, tau2=0.9, max_iters=100, tol=1e-6):\n",
    "    x = np.array(x0, dtype=float)\n",
    "    k = 0\n",
    "    \n",
    "    while k < max_iters:\n",
    "        p = compute_search_direction(x)\n",
    "        alpha_k = 1.0\n",
    "        newpoint = False\n",
    "        \n",
    "        while not newpoint:\n",
    "            if phi(x + alpha_k * p, 0) <= phi(x, 0) + eta * alpha_k * D_phi(x, p):\n",
    "                x_new = x + alpha_k * p\n",
    "                newpoint = True\n",
    "            elif alpha_k == 1:\n",
    "                p_hat = compute_second_order_correction(x, p)\n",
    "                if phi(x + p + p_hat, 0) <= phi(x, 0) + eta * D_phi(x, p):\n",
    "                    x_new = x + p + p_hat\n",
    "                    newpoint = True\n",
    "                else:\n",
    "                    alpha_k *= np.random.uniform(tau1, tau2)  # Choose new alpha_k\n",
    "            else:\n",
    "                alpha_k *= np.random.uniform(tau1, tau2)  # Choose new alpha_k\n",
    "        \n",
    "        if np.linalg.norm(x_new - x) < tol:\n",
    "            break  # Convergence criterion\n",
    "        \n",
    "        x = x_new\n",
    "        k += 1\n",
    "    \n",
    "    return x\n",
    "\n",
    "# Example usage:\n",
    "x0 = [1.0, 2.0]\n",
    "result = algorithm_15_2(x0)\n",
    "print(\"Optimal solution:\", result)\n"
   ]
  },
  {
   "cell_type": "markdown",
   "id": "268d1c7f-5a03-4923-8cf4-915d58b8fd5d",
   "metadata": {},
   "source": [
    "# Algorithm 15.3 (Watchdog)"
   ]
  },
  {
   "cell_type": "code",
   "execution_count": 6,
   "id": "d790deb7-95b8-4e32-ab47-b8665567477c",
   "metadata": {},
   "outputs": [
    {
     "name": "stdout",
     "output_type": "stream",
     "text": [
      "Optimal x: [0. 0.]\n",
      "S: {2}\n"
     ]
    }
   ],
   "source": [
    "def watchdog_algorithm(phi, grad_phi, direction_func, x0, eta=0.3, tol=1e-6, max_iter=100):\n",
    "    k = 0\n",
    "    S = set()\n",
    "    x_k = x0\n",
    "    \n",
    "    while k < max_iter:\n",
    "        p_k = direction_func(x_k)  # Compute search direction\n",
    "        x_k1 = x_k + p_k  # Step update\n",
    "        \n",
    "        if phi(x_k1) <= phi(x_k) + eta * np.dot(grad_phi(x_k), p_k):\n",
    "            k += 1\n",
    "            S.add(k)\n",
    "            x_k = x_k1\n",
    "        else:\n",
    "            p_k1 = direction_func(x_k1)\n",
    "            alpha_k1 = line_search(phi, grad_phi, x_k1, p_k1, eta)\n",
    "            x_k2 = x_k1 + alpha_k1 * p_k1\n",
    "            \n",
    "            if phi(x_k1) <= phi(x_k) or phi(x_k2) <= phi(x_k) + eta * np.dot(grad_phi(x_k), p_k):\n",
    "                k += 2\n",
    "                S.add(k)\n",
    "                x_k = x_k2\n",
    "            elif phi(x_k2) > phi(x_k):\n",
    "                alpha_k = line_search(phi, grad_phi, x_k, p_k, eta)\n",
    "                x_k3 = x_k + alpha_k * p_k\n",
    "                k += 3\n",
    "                S.add(k)\n",
    "                x_k = x_k3\n",
    "            else:\n",
    "                p_k2 = direction_func(x_k2)\n",
    "                alpha_k2 = line_search(phi, grad_phi, x_k2, p_k2, eta)\n",
    "                x_k3 = x_k2 + alpha_k2 * p_k2\n",
    "                k += 3\n",
    "                S.add(k)\n",
    "                x_k = x_k3\n",
    "        \n",
    "        if np.linalg.norm(grad_phi(x_k)) < tol:\n",
    "            break\n",
    "    \n",
    "    return x_k, S\n",
    "\n",
    "def line_search(phi, grad_phi, x, p, eta):\n",
    "    \"\"\"A simple backtracking line search satisfying Armijo condition.\"\"\"\n",
    "    alpha = 1.0\n",
    "    beta = 0.5  # Reduction factor\n",
    "    while phi(x + alpha * p) > phi(x) + eta * alpha * np.dot(grad_phi(x), p):\n",
    "        alpha *= beta\n",
    "    return alpha\n",
    "\n",
    "# Example usage with a quadratic function\n",
    "def phi(x):\n",
    "    return np.dot(x, x)\n",
    "\n",
    "def grad_phi(x):\n",
    "    return 2 * x\n",
    "\n",
    "def direction_func(x):\n",
    "    return -grad_phi(x)\n",
    "\n",
    "x0 = np.array([1.0, 1.0])\n",
    "x_opt, S = watchdog_algorithm(phi, grad_phi, direction_func, x0)\n",
    "print(\"Optimal x:\", x_opt)\n",
    "print(\"S:\", S)\n"
   ]
  }
 ],
 "metadata": {
  "kernelspec": {
   "display_name": "Python 3 (ipykernel)",
   "language": "python",
   "name": "python3"
  },
  "language_info": {
   "codemirror_mode": {
    "name": "ipython",
    "version": 3
   },
   "file_extension": ".py",
   "mimetype": "text/x-python",
   "name": "python",
   "nbconvert_exporter": "python",
   "pygments_lexer": "ipython3",
   "version": "3.11.4"
  }
 },
 "nbformat": 4,
 "nbformat_minor": 5
}
